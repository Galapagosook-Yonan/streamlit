{
  "nbformat": 4,
  "nbformat_minor": 0,
  "metadata": {
    "colab": {
      "provenance": [],
      "authorship_tag": "ABX9TyOjZIEVnyARdAEDIlKIXqFp",
      "include_colab_link": true
    },
    "kernelspec": {
      "name": "python3",
      "display_name": "Python 3"
    },
    "language_info": {
      "name": "python"
    }
  },
  "cells": [
    {
      "cell_type": "markdown",
      "metadata": {
        "id": "view-in-github",
        "colab_type": "text"
      },
      "source": [
        "<a href=\"https://colab.research.google.com/github/maeilej/streamlit_/blob/main/streamlit.ipynb\" target=\"_parent\"><img src=\"https://colab.research.google.com/assets/colab-badge.svg\" alt=\"Open In Colab\"/></a>"
      ]
    },
    {
      "cell_type": "code",
      "execution_count": null,
      "metadata": {
        "id": "w4n5b6YITojl"
      },
      "outputs": [],
      "source": [
        "from hydralit import HydraApp, HydraHeadApp\n",
        "import streamlit as st\n",
        "from streamlit_chat import message\n",
        "import pandas as pd\n",
        "import folium as f\n",
        "\n",
        "# 챗봇 기능을 포함한 식물학습정보 앱 정의\n",
        "class DwellTimeApp(HydraHeadApp):\n",
        "    def __init__(self, **kwargs):\n",
        "        super().__init__(**kwargs)  # 부모 클래스의 생성자 호출\n",
        "        self.title = \"Dwell App\"\n",
        "\n",
        "    def run(self):\n",
        "        st.info('식물학습정보 페이지에 오신 것을 환영합니다!')\n",
        "\n",
        "        # 챗봇 사용자 입력\n",
        "        user_input = st.text_input(\"질문을 입력하세요:\", key=\"chat_input\")\n",
        "\n",
        "        # 사용자가 입력하면, 사용자의 메시지와 간단한 자동 응답을 표시\n",
        "        if user_input:\n",
        "            message(user_input, is_user=True)\n",
        "            message(\"이것은 자동응답입니다. 질문에 따라 답변이 달라질 수 있습니다.\")\n",
        "\n",
        "\n",
        "# 홈 페이지 앱 정의\n",
        "class HomeApp(HydraHeadApp):\n",
        "    def __init__(self, data, **kwargs):\n",
        "        super().__init__(**kwargs)  # 부모 클래스의 생성자 호출\n",
        "        self.title = \"Home\"\n",
        "        self.data = data\n",
        "\n",
        "    def run(self):\n",
        "        try:\n",
        "            st.info('홈 앱')\n",
        "\n",
        "            # Folium 맵 생성\n",
        "            map = f.Map(location=[36.5, 127.5], zoom_start=7)  # 한국 중심으로 초기화\n",
        "            for point in self.data['points']:\n",
        "                f.Marker([point['latitude'], point['longitude']], popup=point['popup'], icon=f.Icon(color='blue')).add_to(map)\n",
        "\n",
        "            # Folium 지도를 HTML로 변환하여 표시\n",
        "            map_html = map._repr_html_()\n",
        "            st.components.v1.html(map_html, width=700, height=500)\n",
        "\n",
        "        except Exception as e:\n",
        "            st.error(f'Error details: {e}')\n",
        "\n",
        "# 두 번째 더미 앱 정의\n",
        "class DwellTimeApp2(HydraHeadApp):\n",
        "    def __init__(self, **kwargs):\n",
        "        super().__init__(**kwargs)  # 부모 클래스의 생성자 호출\n",
        "        self.title = \"Dwell App 2\"\n",
        "\n",
        "    def run(self):\n",
        "        st.info('Running Dwell App 2')\n",
        "\n",
        "# Sample data\n",
        "data = {\n",
        "    'points': [\n",
        "        {'latitude': 37.5665, 'longitude': 126.9780, 'popup': '서울'},\n",
        "        {'latitude': 37.5, 'longitude': 127.0, 'popup': '안양'},\n",
        "        # Add more points as needed\n",
        "    ]\n",
        "}\n",
        "\n",
        "# 메인 애플리케이션 실행\n",
        "if __name__ == '__main__':\n",
        "    app = HydraApp(title='Galapagosook-yonan')\n",
        "    st.title('Galapagosook-yonan')\n",
        "    st.header('주말 농장 현황')\n",
        "    app.add_app(\"지도\", icon=\"🌍\", app=HomeApp(data=data), is_home=True)\n",
        "    app.add_app(\"식물학습정보\", icon=\"📚\", app=DwellTimeApp())\n",
        "    app.add_app(\"장터\", icon=\"🚀\", app=DwellTimeApp2())\n",
        "    app.run()\n"
      ]
    }
  ]
}